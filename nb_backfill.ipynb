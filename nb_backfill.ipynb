{
 "cells": [
  {
   "cell_type": "markdown",
   "metadata": {
    "execution": {
     "iopub.execute_input": "2020-12-30T04:32:21.398901Z",
     "iopub.status.busy": "2020-12-30T04:32:21.398455Z",
     "iopub.status.idle": "2020-12-30T04:32:21.406675Z",
     "shell.execute_reply": "2020-12-30T04:32:21.403311Z",
     "shell.execute_reply.started": "2020-12-30T04:32:21.398863Z"
    }
   },
   "source": [
    "# Imports"
   ]
  },
  {
   "cell_type": "code",
   "execution_count": null,
   "metadata": {},
   "outputs": [],
   "source": [
    "%load_ext autoreload\n",
    "%autoreload 2\n",
    "\n",
    "import numpy as np\n",
    "import pandas as pd\n",
    "pd.set_option('float_format', '{:f}'.format)\n",
    "pd.set_option('display.max_rows', 30)\n",
    "pd.set_option('display.max_columns', 99)\n",
    "import pandas_bokeh\n",
    "pandas_bokeh.output_file(\"data/bokeh_output.html\")\n",
    "\n",
    "import polygon_rest_api as papi\n",
    "import polygon_df as pdf\n",
    "import polygon_ds as pds\n",
    "import polygon_s3 as ps3\n",
    "import polygon_backfill_flow as fb"
   ]
  },
  {
   "cell_type": "markdown",
   "metadata": {
    "execution": {
     "iopub.execute_input": "2020-12-30T04:32:10.389023Z",
     "iopub.status.busy": "2020-12-30T04:32:10.387941Z",
     "iopub.status.idle": "2020-12-30T04:32:10.398392Z",
     "shell.execute_reply": "2020-12-30T04:32:10.396173Z",
     "shell.execute_reply.started": "2020-12-30T04:32:10.388896Z"
    }
   },
   "source": [
    "# Backfill data"
   ]
  },
  {
   "cell_type": "code",
   "execution_count": null,
   "metadata": {},
   "outputs": [],
   "source": [
    "clust_gold = ['AEM', 'AGI', 'ASA', 'AU', 'AUY', 'BTG', 'DRD', 'EGO', 'FNV', 'GFI', 'HMY', 'IAG', 'KGC', 'KL', 'NEM', 'NG', 'OR', 'PAAS', 'RGLD', 'SA', 'SAND', 'SSRM', 'WPM']\n",
    "\n",
    "clust_silver = ['AG', 'AXU', 'BVN', 'CDE', 'EXK', 'FSM', 'GORO', 'GSS', 'HL', 'MAG', 'MUX', 'PVG', 'SVM', 'USAS']\n",
    "\n",
    "all_sym = clust_gold + clust_silver + ['VTI', 'GLD']"
   ]
  },
  {
   "cell_type": "code",
   "execution_count": null,
   "metadata": {},
   "outputs": [],
   "source": [
    "# set sampling params\n",
    "\n",
    "symbol = 'VTI'\n",
    "start_date = '2020-11-01'\n",
    "end_date = '2020-11-31'\n",
    "date = '2020-11-02'"
   ]
  },
  {
   "cell_type": "code",
   "execution_count": null,
   "metadata": {},
   "outputs": [],
   "source": [
    "# check existing data\n",
    "\n",
    "# pd.Series(ps3.list_symbol_dates(symbol='AG', tick_type='trades'))\n",
    "pd.Series(ps3.list_symbol_dates(symbol='market', tick_type='daily'))"
   ]
  },
  {
   "cell_type": "code",
   "execution_count": null,
   "metadata": {},
   "outputs": [],
   "source": [
    "# backfill market daily\n",
    "\n",
    "fb.run_flow(\n",
    "    symbols=['market'],\n",
    "    tick_type='daily',\n",
    "    start_date='2016-01-01',\n",
    "    n_workers=4,\n",
    "    threads_per_worker=8\n",
    ")"
   ]
  },
  {
   "cell_type": "code",
   "execution_count": null,
   "metadata": {},
   "outputs": [],
   "source": [
    "# backfill trades\n",
    "\n",
    "fb.run_flow(\n",
    "    symbols=all_sym,\n",
    "    tick_type='trades', \n",
    "    start_date='2019-01-01', \n",
    "    n_workers=2, \n",
    "    threads_per_worker=4\n",
    ")"
   ]
  },
  {
   "cell_type": "code",
   "execution_count": null,
   "metadata": {},
   "outputs": [],
   "source": []
  }
 ],
 "metadata": {
  "kernelspec": {
   "display_name": "Python 3",
   "language": "python",
   "name": "python3"
  },
  "language_info": {
   "codemirror_mode": {
    "name": "ipython",
    "version": 3
   },
   "file_extension": ".py",
   "mimetype": "text/x-python",
   "name": "python",
   "nbconvert_exporter": "python",
   "pygments_lexer": "ipython3",
   "version": "3.8.6"
  }
 },
 "nbformat": 4,
 "nbformat_minor": 4
}
