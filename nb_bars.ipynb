{
 "cells": [
  {
   "cell_type": "markdown",
   "metadata": {},
   "source": [
    "# Ray start/stop"
   ]
  },
  {
   "cell_type": "code",
   "execution_count": null,
   "metadata": {},
   "outputs": [],
   "source": [
    "ray.init(ignore_reinit_error=True)"
   ]
  },
  {
   "cell_type": "code",
   "execution_count": null,
   "metadata": {},
   "outputs": [],
   "source": [
    "ray.shutdown()"
   ]
  },
  {
   "cell_type": "markdown",
   "metadata": {},
   "source": [
    "# Imports"
   ]
  },
  {
   "cell_type": "code",
   "execution_count": 1,
   "metadata": {
    "ExecuteTime": {
     "end_time": "2020-09-30T01:17:28.615776Z",
     "start_time": "2020-09-30T01:17:28.454787Z"
    },
    "execution": {
     "iopub.execute_input": "2021-01-02T04:16:41.056320Z",
     "iopub.status.busy": "2021-01-02T04:16:41.055802Z",
     "iopub.status.idle": "2021-01-02T04:16:43.281155Z",
     "shell.execute_reply": "2021-01-02T04:16:43.279894Z",
     "shell.execute_reply.started": "2021-01-02T04:16:41.056214Z"
    }
   },
   "outputs": [],
   "source": [
    "%load_ext autoreload\n",
    "%autoreload 2\n",
    "\n",
    "import numpy as np\n",
    "import pandas as pd\n",
    "pd.set_option('float_format', '{:f}'.format)\n",
    "pd.set_option('display.max_rows', 99)\n",
    "pd.set_option('display.max_columns', 99)\n",
    "import pandas_bokeh\n",
    "pandas_bokeh.output_file(\"data/bokeh_output.html\")\n",
    "\n",
    "import polygon_df as pdf\n",
    "import polygon_ds as pds\n",
    "import polygon_s3 as ps3\n",
    "import bar_samples as bs\n",
    "import bar_labels as bl\n",
    "import bar_workflow as bw\n",
    "import utils_filters as ft\n",
    "\n",
    "import matplotlib as mpl\n",
    "from matplotlib import style\n",
    "style.use('fivethirtyeight')\n",
    "mpl.rcParams['figure.figsize'] = [20, 7]\n",
    "\n",
    "# df.style.background_gradient(cmap='coolwarm', axis=None, vmin=-1, vmax=1)  # 'Blues', 'coolwarm', 'RdBu_r' & 'BrBG'\n",
    "# pd.set_option('precision', 2)\n",
    "# .plot_bokeh(sizing_mode=\"scale_height\")"
   ]
  },
  {
   "cell_type": "markdown",
   "metadata": {
    "execution": {
     "iopub.execute_input": "2020-12-09T07:15:12.867876Z",
     "iopub.status.busy": "2020-12-09T07:15:12.867428Z",
     "iopub.status.idle": "2020-12-09T07:15:12.887564Z",
     "shell.execute_reply": "2020-12-09T07:15:12.872405Z",
     "shell.execute_reply.started": "2020-12-09T07:15:12.867835Z"
    }
   },
   "source": [
    "# Sample tick dates\n"
   ]
  },
  {
   "cell_type": "code",
   "execution_count": 40,
   "metadata": {
    "execution": {
     "iopub.execute_input": "2021-01-02T04:27:04.357222Z",
     "iopub.status.busy": "2021-01-02T04:27:04.356783Z",
     "iopub.status.idle": "2021-01-02T04:27:04.473775Z",
     "shell.execute_reply": "2021-01-02T04:27:04.468860Z",
     "shell.execute_reply.started": "2021-01-02T04:27:04.357184Z"
    }
   },
   "outputs": [
    {
     "name": "stderr",
     "output_type": "stream",
     "text": [
      "2021-01-01 20:27:04,463\tINFO worker.py:666 -- Calling ray.init() again after it has already been called.\n"
     ]
    }
   ],
   "source": [
    "# set sampling params\n",
    "symbol = 'VTI'\n",
    "start_date = '2020-11-01'\n",
    "end_date = '2020-11-05'\n",
    "date = '2020-11-30'\n",
    "\n",
    "thresh = {\n",
    "    # max thresholds\n",
    "    'renko_return': 'jma_return',\n",
    "    'renko_reveral_multiple': 2,\n",
    "    'renko_range_frac': 20,\n",
    "    'max_duration_sec': 60*60*0.5,  # 1/2 hour\n",
    "    # min thresholds\n",
    "    'min_duration_sec': 10,\n",
    "    'min_tick_count': 30,\n",
    "    # label params\n",
    "    'label_reward_ratios': list(np.arange(2.5, 11, 0.5)),\n",
    "}\n",
    "\n",
    "ray_on = True\n",
    "\n",
    "if ray_on:\n",
    "    import ray\n",
    "    ray.init(ignore_reinit_error=True)\n"
   ]
  },
  {
   "cell_type": "code",
   "execution_count": 42,
   "metadata": {
    "execution": {
     "iopub.execute_input": "2021-01-02T04:34:43.658596Z",
     "iopub.status.busy": "2021-01-02T04:34:43.657817Z",
     "iopub.status.idle": "2021-01-02T04:35:18.649280Z",
     "shell.execute_reply": "2021-01-02T04:35:18.647831Z",
     "shell.execute_reply.started": "2021-01-02T04:34:43.658548Z"
    }
   },
   "outputs": [
    {
     "name": "stdout",
     "output_type": "stream",
     "text": [
      "\u001b[2m\u001b[36m(pid=17870)\u001b[0m VTI 2020-11-04 trying to get data from local file...\n",
      "\u001b[2m\u001b[36m(pid=17871)\u001b[0m VTI 2020-11-02 trying to get data from local file...\n",
      "\u001b[2m\u001b[36m(pid=17868)\u001b[0m VTI 2020-11-03 trying to get data from local file...\n",
      "\u001b[2m\u001b[36m(pid=17869)\u001b[0m VTI 2020-11-05 trying to get data from local file...\n"
     ]
    }
   ],
   "source": [
    "\n",
    "bar_dates = bw.bar_dates_workflow(symbol, start_date, end_date, thresh, ray_on)\n"
   ]
  },
  {
   "cell_type": "code",
   "execution_count": 45,
   "metadata": {
    "execution": {
     "iopub.execute_input": "2021-01-02T04:36:09.284273Z",
     "iopub.status.busy": "2021-01-02T04:36:09.283497Z",
     "iopub.status.idle": "2021-01-02T04:36:09.397390Z",
     "shell.execute_reply": "2021-01-02T04:36:09.395680Z",
     "shell.execute_reply.started": "2021-01-02T04:36:09.284209Z"
    }
   },
   "outputs": [],
   "source": [
    "tdf = bar_dates[0]['ticks_df']"
   ]
  },
  {
   "cell_type": "code",
   "execution_count": 54,
   "metadata": {
    "execution": {
     "iopub.execute_input": "2021-01-02T04:37:17.021973Z",
     "iopub.status.busy": "2021-01-02T04:37:17.020695Z",
     "iopub.status.idle": "2021-01-02T04:37:17.189998Z",
     "shell.execute_reply": "2021-01-02T04:37:17.187993Z",
     "shell.execute_reply.started": "2021-01-02T04:37:17.021903Z"
    }
   },
   "outputs": [
    {
     "data": {
      "text/plain": [
       "clean                  49783\n",
       "after_hours              670\n",
       "irregular_condition      293\n",
       "timestamps_delta         122\n",
       "outlier_filter            12\n",
       "Name: status, dtype: int64"
      ]
     },
     "execution_count": 54,
     "metadata": {},
     "output_type": "execute_result"
    }
   ],
   "source": [
    "tdf.status.value_counts()"
   ]
  },
  {
   "cell_type": "code",
   "execution_count": 53,
   "metadata": {
    "execution": {
     "iopub.execute_input": "2021-01-02T04:37:01.064996Z",
     "iopub.status.busy": "2021-01-02T04:37:01.064574Z",
     "iopub.status.idle": "2021-01-02T04:37:01.226968Z",
     "shell.execute_reply": "2021-01-02T04:37:01.224897Z",
     "shell.execute_reply.started": "2021-01-02T04:37:01.064960Z"
    }
   },
   "outputs": [
    {
     "data": {
      "text/plain": [
       "0.978439465408805"
      ]
     },
     "execution_count": 53,
     "metadata": {},
     "output_type": "execute_result"
    }
   ],
   "source": [
    "len(tdf[tdf.status=='clean'])/tdf.shape[0]"
   ]
  },
  {
   "cell_type": "code",
   "execution_count": null,
   "metadata": {},
   "outputs": [],
   "source": [
    "stacked_df = bw.fill_gaps_dates(bar_dates, fill_col='jma_close')\n",
    "\n",
    "stats_df = bw.bar_dates_stats(stacked_df)\n",
    "\n",
    "daily_stats_df = pd.merge(left=daily_stats_df, right=stats_df, left_on='date', right_on='date')"
   ]
  },
  {
   "cell_type": "code",
   "execution_count": null,
   "metadata": {},
   "outputs": [],
   "source": [
    "stacked_df, daily_stats_df.set_index('date_time')"
   ]
  }
 ],
 "metadata": {
  "kernelspec": {
   "display_name": "Python 3",
   "language": "python",
   "name": "python3"
  },
  "language_info": {
   "codemirror_mode": {
    "name": "ipython",
    "version": 3
   },
   "file_extension": ".py",
   "mimetype": "text/x-python",
   "name": "python",
   "nbconvert_exporter": "python",
   "pygments_lexer": "ipython3",
   "version": "3.8.6"
  },
  "toc-autonumbering": true,
  "toc-showcode": false,
  "toc-showmarkdowntxt": false,
  "toc-showtags": false,
  "varInspector": {
   "cols": {
    "lenName": 16,
    "lenType": 16,
    "lenVar": 40
   },
   "kernels_config": {
    "python": {
     "delete_cmd_postfix": "",
     "delete_cmd_prefix": "del ",
     "library": "var_list.py",
     "varRefreshCmd": "print(var_dic_list())"
    },
    "r": {
     "delete_cmd_postfix": ") ",
     "delete_cmd_prefix": "rm(",
     "library": "var_list.r",
     "varRefreshCmd": "cat(var_dic_list()) "
    }
   },
   "types_to_exclude": [
    "module",
    "function",
    "builtin_function_or_method",
    "instance",
    "_Feature"
   ],
   "window_display": false
  }
 },
 "nbformat": 4,
 "nbformat_minor": 4
}
