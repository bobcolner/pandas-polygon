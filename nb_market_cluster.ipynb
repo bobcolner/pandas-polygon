{
 "cells": [
  {
   "cell_type": "code",
   "execution_count": null,
   "metadata": {},
   "outputs": [],
   "source": [
    "import ray\n",
    "ray.init()\n",
    "# ray.shutdown()"
   ]
  },
  {
   "cell_type": "markdown",
   "metadata": {
    "execution": {
     "iopub.execute_input": "2020-12-10T21:05:39.763294Z",
     "iopub.status.busy": "2020-12-10T21:05:39.762634Z",
     "iopub.status.idle": "2020-12-10T21:05:39.770387Z",
     "shell.execute_reply": "2020-12-10T21:05:39.768788Z",
     "shell.execute_reply.started": "2020-12-10T21:05:39.763162Z"
    }
   },
   "source": [
    "# Imports"
   ]
  },
  {
   "cell_type": "code",
   "execution_count": 5,
   "metadata": {
    "execution": {
     "iopub.execute_input": "2020-12-11T06:39:50.187574Z",
     "iopub.status.busy": "2020-12-11T06:39:50.183816Z",
     "iopub.status.idle": "2020-12-11T06:39:57.627248Z",
     "shell.execute_reply": "2020-12-11T06:39:57.625902Z",
     "shell.execute_reply.started": "2020-12-11T06:39:50.187495Z"
    }
   },
   "outputs": [],
   "source": [
    "%load_ext autoreload\n",
    "%autoreload 2\n",
    "\n",
    "import numpy as np\n",
    "import pandas as pd\n",
    "pd.set_option('float_format', '{:f}'.format)\n",
    "pd.set_option('display.max_rows', 50)\n",
    "pd.set_option('display.max_columns', 40)\n",
    "# pd.set_option('display.width', 1000)\n",
    "\n",
    "\n",
    "import pandas_bokeh\n",
    "import matplotlib as mpl\n",
    "import matplotlib.pyplot as plt\n",
    "from matplotlib import style\n",
    "style.use('fivethirtyeight')\n",
    "mpl.rcParams['figure.figsize'] = [20, 7]\n",
    "\n",
    "import polygon_ds as pds\n",
    "import polygon_df as pdf\n",
    "import polygon_s3 as ps3\n",
    "import ray_symbol_details as rsd\n",
    "import market_preprocess as mp\n",
    "import market_cov as mcov\n",
    "import market_cluster as mc\n",
    "import utils_pickle as up\n",
    "# import ipdb\n",
    "# ipdb.set_trace(context=10)"
   ]
  },
  {
   "cell_type": "markdown",
   "metadata": {
    "execution": {
     "iopub.execute_input": "2020-12-10T21:06:09.254171Z",
     "iopub.status.busy": "2020-12-10T21:06:09.253580Z",
     "iopub.status.idle": "2020-12-10T21:06:09.265908Z",
     "shell.execute_reply": "2020-12-10T21:06:09.264917Z",
     "shell.execute_reply.started": "2020-12-10T21:06:09.254129Z"
    }
   },
   "source": [
    "# Cluster market symbols"
   ]
  },
  {
   "cell_type": "code",
   "execution_count": 2,
   "metadata": {
    "execution": {
     "iopub.execute_input": "2020-12-07T23:38:21.450072Z",
     "iopub.status.busy": "2020-12-07T23:38:21.449285Z",
     "iopub.status.idle": "2020-12-07T23:38:21.957626Z",
     "shell.execute_reply": "2020-12-07T23:38:21.875555Z",
     "shell.execute_reply.started": "2020-12-07T23:38:21.450015Z"
    }
   },
   "outputs": [],
   "source": [
    "start_date = '2018-10-24'\n",
    "end_date = '2020-11-24'\n",
    "\n",
    "# load and pre-process market daily data\n",
    "\n",
    "r = mp.prepare_data(start_date, end_date, beta_symbol='VTI')"
   ]
  },
  {
   "cell_type": "code",
   "execution_count": 5,
   "metadata": {
    "execution": {
     "iopub.execute_input": "2020-12-07T23:39:09.902645Z",
     "iopub.status.busy": "2020-12-07T23:39:09.902236Z",
     "iopub.status.idle": "2020-12-07T23:39:09.988692Z",
     "shell.execute_reply": "2020-12-07T23:39:09.987654Z",
     "shell.execute_reply.started": "2020-12-07T23:39:09.902596Z"
    }
   },
   "outputs": [],
   "source": [
    "X = r['g_zs_log_returns_resid']\n",
    "Xt = X.transpose()\n",
    "gt_industry = r['sym_meta'].industry.values\n",
    "gt_sector = r['sym_meta'].sector.values\n",
    "\n",
    "# compute covariance/correlation/distance/similarity matrics\n",
    "\n",
    "dist_mat, cor_mat = mcov.cov_denoise_detone_dist(X, detone=False)\n",
    "abs_cor_mat = abs(cor_mat)"
   ]
  },
  {
   "cell_type": "code",
   "execution_count": 5,
   "metadata": {
    "execution": {
     "iopub.execute_input": "2020-12-07T23:39:09.902645Z",
     "iopub.status.busy": "2020-12-07T23:39:09.902236Z",
     "iopub.status.idle": "2020-12-07T23:39:09.988692Z",
     "shell.execute_reply": "2020-12-07T23:39:09.987654Z",
     "shell.execute_reply.started": "2020-12-07T23:39:09.902596Z"
    }
   },
   "outputs": [],
   "source": [
    "# fit cluster models and evalue vs. ground truth labels\n",
    "\n",
    "kclust = mc.cluster_ground_truth_eval(mc.get_kmean_clusters, 200, X, gt_industry)\n",
    "print(kclust['adj. multual information'])\n",
    "\n",
    "hclust = mc.cluster_ground_truth_eval(mc.get_hira_clusters, 200, Xt, gt_industry)\n",
    "print(hclust['adj. multual information'])"
   ]
  },
  {
   "cell_type": "code",
   "execution_count": 220,
   "metadata": {
    "execution": {
     "iopub.execute_input": "2020-12-08T09:25:25.832691Z",
     "iopub.status.busy": "2020-12-08T09:25:25.832157Z",
     "iopub.status.idle": "2020-12-08T09:25:30.448590Z",
     "shell.execute_reply": "2020-12-08T09:25:30.412835Z",
     "shell.execute_reply.started": "2020-12-08T09:25:25.832656Z"
    }
   },
   "outputs": [],
   "source": [
    "# compute cluster descriptive stats\n",
    "\n",
    "out = mc.cluster_metrics(lables=hclust['cluster_labels'], dist_mat=dist_mat, sym_meta=r['sym_meta'])"
   ]
  },
  {
   "cell_type": "code",
   "execution_count": 275,
   "metadata": {
    "execution": {
     "iopub.execute_input": "2020-12-08T20:05:44.809836Z",
     "iopub.status.busy": "2020-12-08T20:05:44.809379Z",
     "iopub.status.idle": "2020-12-08T20:05:44.965114Z",
     "shell.execute_reply": "2020-12-08T20:05:44.962798Z",
     "shell.execute_reply.started": "2020-12-08T20:05:44.809792Z"
    }
   },
   "outputs": [],
   "source": [
    "size_mask = (out.cluster_size > 5)\n",
    "\n",
    "# size_mask = out.cluster_size > out.cluster_size.quantile(q=0.2)\n",
    "\n",
    "similartiy_mask = out.avg_similartiy > out.avg_similartiy.quantile(q=0.25)\n",
    "\n",
    "sector_purity_mask = out.sector_purity > out.sector_purity.quantile(q=0.25)\n",
    "\n",
    "industry_purity_mask = out.industry_purity > out.industry_purity.quantile(q=0.25)\n",
    "\n",
    "range_value_mask = out.avg_range_value_pct > out.avg_range_value_pct.quantile(q=0.75)\n"
   ]
  },
  {
   "cell_type": "code",
   "execution_count": 282,
   "metadata": {
    "execution": {
     "iopub.execute_input": "2020-12-08T20:22:59.896652Z",
     "iopub.status.busy": "2020-12-08T20:22:59.896171Z",
     "iopub.status.idle": "2020-12-08T20:23:00.247757Z",
     "shell.execute_reply": "2020-12-08T20:23:00.246500Z",
     "shell.execute_reply.started": "2020-12-08T20:22:59.896606Z"
    }
   },
   "outputs": [
    {
     "data": {
      "text/html": [
       "<div>\n",
       "<style scoped>\n",
       "    .dataframe tbody tr th:only-of-type {\n",
       "        vertical-align: middle;\n",
       "    }\n",
       "\n",
       "    .dataframe tbody tr th {\n",
       "        vertical-align: top;\n",
       "    }\n",
       "\n",
       "    .dataframe thead th {\n",
       "        text-align: right;\n",
       "    }\n",
       "</style>\n",
       "<table border=\"1\" class=\"dataframe\">\n",
       "  <thead>\n",
       "    <tr style=\"text-align: right;\">\n",
       "      <th></th>\n",
       "      <th>names</th>\n",
       "      <th>symbols</th>\n",
       "      <th>cluster_size</th>\n",
       "      <th>avg_similartiy</th>\n",
       "      <th>avg_similartiy_std</th>\n",
       "      <th>sector_purity</th>\n",
       "      <th>industry_purity</th>\n",
       "      <th>top_sector</th>\n",
       "      <th>top_industry</th>\n",
       "      <th>avg_range_value_pct</th>\n",
       "      <th>med_daily_dollar_volume</th>\n",
       "      <th>dist_mat</th>\n",
       "      <th>symbol_meta</th>\n",
       "    </tr>\n",
       "    <tr>\n",
       "      <th>label</th>\n",
       "      <th></th>\n",
       "      <th></th>\n",
       "      <th></th>\n",
       "      <th></th>\n",
       "      <th></th>\n",
       "      <th></th>\n",
       "      <th></th>\n",
       "      <th></th>\n",
       "      <th></th>\n",
       "      <th></th>\n",
       "      <th></th>\n",
       "      <th></th>\n",
       "      <th></th>\n",
       "    </tr>\n",
       "  </thead>\n",
       "  <tbody>\n",
       "    <tr>\n",
       "      <th>137</th>\n",
       "      <td>[First Majestic Silver Corp. (Canada), Alexco ...</td>\n",
       "      <td>[AG, AXU, BVN, CDE, EXK, FSM, GORO, GSS, HL, M...</td>\n",
       "      <td>14</td>\n",
       "      <td>0.465044</td>\n",
       "      <td>0.981774</td>\n",
       "      <td>0.500000</td>\n",
       "      <td>0.500000</td>\n",
       "      <td>Basic Materials</td>\n",
       "      <td>Metals &amp; Mining</td>\n",
       "      <td>0.049257</td>\n",
       "      <td>5136780.000000</td>\n",
       "      <td>symbol       AG      AXU      BVN      CDE    ...</td>\n",
       "      <td>na...</td>\n",
       "    </tr>\n",
       "    <tr>\n",
       "      <th>73</th>\n",
       "      <td>[Banco Macro S.A. ADR (representing Ten Class ...</td>\n",
       "      <td>[BMA, CEPU, CRESY, EDN, GGAL, IRS, LOMA, PAM, ...</td>\n",
       "      <td>12</td>\n",
       "      <td>0.443925</td>\n",
       "      <td>0.979992</td>\n",
       "      <td>0.142857</td>\n",
       "      <td>0.142857</td>\n",
       "      <td>Utilities</td>\n",
       "      <td>Utilities - Regulated</td>\n",
       "      <td>0.052335</td>\n",
       "      <td>2342614.000000</td>\n",
       "      <td>symbol      BMA     CEPU    CRESY      EDN    ...</td>\n",
       "      <td>...</td>\n",
       "    </tr>\n",
       "    <tr>\n",
       "      <th>22</th>\n",
       "      <td>[Apache Corporation, Bonanza Creek Energy Inc....</td>\n",
       "      <td>[APA, BCEI, CDEV, CLR, CPE, CXO, DVN, EOG, EST...</td>\n",
       "      <td>33</td>\n",
       "      <td>0.433105</td>\n",
       "      <td>0.973471</td>\n",
       "      <td>0.500000</td>\n",
       "      <td>0.200000</td>\n",
       "      <td>Energy</td>\n",
       "      <td>Oil &amp; Gas - E&amp;P</td>\n",
       "      <td>0.048383</td>\n",
       "      <td>37959496.000000</td>\n",
       "      <td>symbol      APA     BCEI     CDEV      CLR    ...</td>\n",
       "      <td>name  ...</td>\n",
       "    </tr>\n",
       "    <tr>\n",
       "      <th>139</th>\n",
       "      <td>[Antero Resources Corporation, CNX Resources C...</td>\n",
       "      <td>[AR, CNX, COG, CRK, EQT, RRC, SWN]</td>\n",
       "      <td>7</td>\n",
       "      <td>0.425349</td>\n",
       "      <td>0.974612</td>\n",
       "      <td>1.000000</td>\n",
       "      <td>1.000000</td>\n",
       "      <td>Energy</td>\n",
       "      <td>Oil &amp; Gas - E&amp;P</td>\n",
       "      <td>0.055165</td>\n",
       "      <td>50263184.000000</td>\n",
       "      <td>symbol       AR      CNX      COG      CRK    ...</td>\n",
       "      <td>name  sector  ...</td>\n",
       "    </tr>\n",
       "    <tr>\n",
       "      <th>102</th>\n",
       "      <td>[Archrock Inc., DMC Global Inc., CIRCOR Intern...</td>\n",
       "      <td>[AROC, BOOM, CIR, CLB, FTI, HAL, HLX, HP, KOS,...</td>\n",
       "      <td>29</td>\n",
       "      <td>0.416691</td>\n",
       "      <td>0.979757</td>\n",
       "      <td>0.333333</td>\n",
       "      <td>0.166667</td>\n",
       "      <td>Energy</td>\n",
       "      <td>Oil &amp; Gas - Services</td>\n",
       "      <td>0.046271</td>\n",
       "      <td>12410298.000000</td>\n",
       "      <td>symbol     AROC     BOOM      CIR      CLB    ...</td>\n",
       "      <td>...</td>\n",
       "    </tr>\n",
       "    <tr>\n",
       "      <th>85</th>\n",
       "      <td>[Canadian Solar Inc., DAQO New Energy Corp. Am...</td>\n",
       "      <td>[CSIQ, DQ, ENPH, FSLR, JKS, RUN, SEDG, SPWR, T...</td>\n",
       "      <td>9</td>\n",
       "      <td>0.404275</td>\n",
       "      <td>0.978724</td>\n",
       "      <td>0.500000</td>\n",
       "      <td>0.500000</td>\n",
       "      <td>Technology</td>\n",
       "      <td>Semiconductors</td>\n",
       "      <td>0.047876</td>\n",
       "      <td>23333788.000000</td>\n",
       "      <td>symbol     CSIQ       DQ     ENPH     FSLR    ...</td>\n",
       "      <td>...</td>\n",
       "    </tr>\n",
       "    <tr>\n",
       "      <th>53</th>\n",
       "      <td>[Altimmune Inc., Alpha Pro Tech Ltd., Inovio P...</td>\n",
       "      <td>[ALT, APT, INO, LAKE, NNVC, NVAX]</td>\n",
       "      <td>6</td>\n",
       "      <td>0.362604</td>\n",
       "      <td>0.974705</td>\n",
       "      <td>0.500000</td>\n",
       "      <td>0.250000</td>\n",
       "      <td>Healthcare</td>\n",
       "      <td>Biotechnology</td>\n",
       "      <td>0.062078</td>\n",
       "      <td>720513.625000</td>\n",
       "      <td>symbol      ALT      APT      INO     LAKE    ...</td>\n",
       "      <td>name           ...</td>\n",
       "    </tr>\n",
       "    <tr>\n",
       "      <th>70</th>\n",
       "      <td>[Cheetah Mobile Inc. American Depositary Share...</td>\n",
       "      <td>[CMCM, LX, NOAH, QD, SOGO, SOHU, XNET, YRD]</td>\n",
       "      <td>8</td>\n",
       "      <td>0.360847</td>\n",
       "      <td>0.982070</td>\n",
       "      <td>0.500000</td>\n",
       "      <td>0.250000</td>\n",
       "      <td>Technology</td>\n",
       "      <td>Credit Services</td>\n",
       "      <td>0.047916</td>\n",
       "      <td>4707837.000000</td>\n",
       "      <td>symbol     CMCM       LX     NOAH       QD    ...</td>\n",
       "      <td>...</td>\n",
       "    </tr>\n",
       "    <tr>\n",
       "      <th>78</th>\n",
       "      <td>[Arbutus Biopharma Corporation, ACADIA Pharmac...</td>\n",
       "      <td>[ABUS, ACAD, APLS, ARWR, ATNX, ATRA, BCRX, BPM...</td>\n",
       "      <td>52</td>\n",
       "      <td>0.359198</td>\n",
       "      <td>0.985155</td>\n",
       "      <td>1.000000</td>\n",
       "      <td>0.333333</td>\n",
       "      <td>Healthcare</td>\n",
       "      <td>Biotechnology</td>\n",
       "      <td>0.049116</td>\n",
       "      <td>10673644.000000</td>\n",
       "      <td>symbol     ABUS     ACAD     APLS     ARWR    ...</td>\n",
       "      <td>name      se...</td>\n",
       "    </tr>\n",
       "  </tbody>\n",
       "</table>\n",
       "</div>"
      ],
      "text/plain": [
       "                                                   names  \\\n",
       "label                                                      \n",
       "137    [First Majestic Silver Corp. (Canada), Alexco ...   \n",
       "73     [Banco Macro S.A. ADR (representing Ten Class ...   \n",
       "22     [Apache Corporation, Bonanza Creek Energy Inc....   \n",
       "139    [Antero Resources Corporation, CNX Resources C...   \n",
       "102    [Archrock Inc., DMC Global Inc., CIRCOR Intern...   \n",
       "85     [Canadian Solar Inc., DAQO New Energy Corp. Am...   \n",
       "53     [Altimmune Inc., Alpha Pro Tech Ltd., Inovio P...   \n",
       "70     [Cheetah Mobile Inc. American Depositary Share...   \n",
       "78     [Arbutus Biopharma Corporation, ACADIA Pharmac...   \n",
       "\n",
       "                                                 symbols  cluster_size  \\\n",
       "label                                                                    \n",
       "137    [AG, AXU, BVN, CDE, EXK, FSM, GORO, GSS, HL, M...            14   \n",
       "73     [BMA, CEPU, CRESY, EDN, GGAL, IRS, LOMA, PAM, ...            12   \n",
       "22     [APA, BCEI, CDEV, CLR, CPE, CXO, DVN, EOG, EST...            33   \n",
       "139                   [AR, CNX, COG, CRK, EQT, RRC, SWN]             7   \n",
       "102    [AROC, BOOM, CIR, CLB, FTI, HAL, HLX, HP, KOS,...            29   \n",
       "85     [CSIQ, DQ, ENPH, FSLR, JKS, RUN, SEDG, SPWR, T...             9   \n",
       "53                     [ALT, APT, INO, LAKE, NNVC, NVAX]             6   \n",
       "70           [CMCM, LX, NOAH, QD, SOGO, SOHU, XNET, YRD]             8   \n",
       "78     [ABUS, ACAD, APLS, ARWR, ATNX, ATRA, BCRX, BPM...            52   \n",
       "\n",
       "       avg_similartiy  avg_similartiy_std  sector_purity  industry_purity  \\\n",
       "label                                                                       \n",
       "137          0.465044            0.981774       0.500000         0.500000   \n",
       "73           0.443925            0.979992       0.142857         0.142857   \n",
       "22           0.433105            0.973471       0.500000         0.200000   \n",
       "139          0.425349            0.974612       1.000000         1.000000   \n",
       "102          0.416691            0.979757       0.333333         0.166667   \n",
       "85           0.404275            0.978724       0.500000         0.500000   \n",
       "53           0.362604            0.974705       0.500000         0.250000   \n",
       "70           0.360847            0.982070       0.500000         0.250000   \n",
       "78           0.359198            0.985155       1.000000         0.333333   \n",
       "\n",
       "            top_sector           top_industry  avg_range_value_pct  \\\n",
       "label                                                                \n",
       "137    Basic Materials        Metals & Mining             0.049257   \n",
       "73           Utilities  Utilities - Regulated             0.052335   \n",
       "22              Energy        Oil & Gas - E&P             0.048383   \n",
       "139             Energy        Oil & Gas - E&P             0.055165   \n",
       "102             Energy   Oil & Gas - Services             0.046271   \n",
       "85          Technology         Semiconductors             0.047876   \n",
       "53          Healthcare          Biotechnology             0.062078   \n",
       "70          Technology        Credit Services             0.047916   \n",
       "78          Healthcare          Biotechnology             0.049116   \n",
       "\n",
       "       med_daily_dollar_volume  \\\n",
       "label                            \n",
       "137             5136780.000000   \n",
       "73              2342614.000000   \n",
       "22             37959496.000000   \n",
       "139            50263184.000000   \n",
       "102            12410298.000000   \n",
       "85             23333788.000000   \n",
       "53               720513.625000   \n",
       "70              4707837.000000   \n",
       "78             10673644.000000   \n",
       "\n",
       "                                                dist_mat  \\\n",
       "label                                                      \n",
       "137    symbol       AG      AXU      BVN      CDE    ...   \n",
       "73     symbol      BMA     CEPU    CRESY      EDN    ...   \n",
       "22     symbol      APA     BCEI     CDEV      CLR    ...   \n",
       "139    symbol       AR      CNX      COG      CRK    ...   \n",
       "102    symbol     AROC     BOOM      CIR      CLB    ...   \n",
       "85     symbol     CSIQ       DQ     ENPH     FSLR    ...   \n",
       "53     symbol      ALT      APT      INO     LAKE    ...   \n",
       "70     symbol     CMCM       LX     NOAH       QD    ...   \n",
       "78     symbol     ABUS     ACAD     APLS     ARWR    ...   \n",
       "\n",
       "                                             symbol_meta  \n",
       "label                                                     \n",
       "137                                                na...  \n",
       "73                                                   ...  \n",
       "22                                             name  ...  \n",
       "139                                    name  sector  ...  \n",
       "102                                                  ...  \n",
       "85                                                   ...  \n",
       "53                                    name           ...  \n",
       "70                                                   ...  \n",
       "78                                       name      se...  "
      ]
     },
     "execution_count": 282,
     "metadata": {},
     "output_type": "execute_result"
    }
   ],
   "source": [
    "out[range_value_mask & similartiy_mask & size_mask].sort_values('avg_similartiy', ascending=False)[:9]"
   ]
  },
  {
   "cell_type": "code",
   "execution_count": 287,
   "metadata": {
    "execution": {
     "iopub.execute_input": "2020-12-08T21:18:48.751296Z",
     "iopub.status.busy": "2020-12-08T21:18:48.750842Z",
     "iopub.status.idle": "2020-12-08T21:18:48.917339Z",
     "shell.execute_reply": "2020-12-08T21:18:48.914195Z",
     "shell.execute_reply.started": "2020-12-08T21:18:48.751252Z"
    }
   },
   "outputs": [
    {
     "data": {
      "text/plain": [
       "Index(['AG', 'AXU', 'BVN', 'CDE', 'EXK', 'FSM', 'GORO', 'GSS', 'HL', 'MAG',\n",
       "       'MUX', 'PVG', 'SVM', 'USAS'],\n",
       "      dtype='object', name='symbol')"
      ]
     },
     "execution_count": 287,
     "metadata": {},
     "output_type": "execute_result"
    }
   ],
   "source": [
    "out.iloc[137, :].symbol_meta.index"
   ]
  },
  {
   "cell_type": "markdown",
   "metadata": {
    "execution": {
     "iopub.execute_input": "2020-12-10T21:06:43.920435Z",
     "iopub.status.busy": "2020-12-10T21:06:43.919822Z",
     "iopub.status.idle": "2020-12-10T21:06:43.931123Z",
     "shell.execute_reply": "2020-12-10T21:06:43.929930Z",
     "shell.execute_reply.started": "2020-12-10T21:06:43.920390Z"
    }
   },
   "source": [
    "# Corex"
   ]
  },
  {
   "cell_type": "code",
   "execution_count": null,
   "metadata": {},
   "outputs": [],
   "source": [
    "corex300 = up.pickle_load('data/corex300.pkl')\n",
    "\n",
    "# X = df.reset_index(drop=True)\n",
    "# corex, full_df = mc.corex_fit(X, n_hidden=200)\n",
    "\n",
    "# up.pickle_dump((corex, full_df), file_name='corex200.pkl')\n",
    "\n",
    "# gsutil copy /Users/bobcolner/QuantClarity/pandas-polygon/corex200.pkl gs://emerald-skill-datascience/"
   ]
  },
  {
   "cell_type": "markdown",
   "metadata": {},
   "source": [
    "# GLRM"
   ]
  },
  {
   "cell_type": "code",
   "execution_count": null,
   "metadata": {},
   "outputs": [],
   "source": [
    "import h2o\n",
    "from h2o.estimators import H2OGeneralizedLowRankEstimator\n",
    "h2o.init()\n",
    "\n",
    "# Import the USArrests dataset into H2O:\n",
    "arrestsH2O = h2o.import_file(\"https://s3.amazonaws.com/h2o-public-test-data/smalldata/pca_test/USArrests.csv\")\n",
    "\n",
    "# Split the dataset into a train and valid set:\n",
    "train, valid = arrestsH2O.split_frame(ratios=[.8], seed=1234)\n",
    "\n",
    "# Build and train the model:\n",
    "glrm_model = H2OGeneralizedLowRankEstimator(\n",
    "    k=4,\n",
    "    loss=\"Huber\",\n",
    "    loss_by_col={'cat_var': 'Categorical'},\n",
    "    regularization_x=\"OneSparse\", # None (default), Quadratic, L2, L1, NonNegative, OneSparse, UnitOneSparse, Simplex.\n",
    "    regularization_y=\"OneSparse\",\n",
    "    gamma_x=0.5,\n",
    "    gamma_y=0.5,\n",
    "    max_iterations=1000,\n",
    "    recover_svd=True,\n",
    "    init=\"PlusPlus\",\n",
    "    transform=\"standardize\",\n",
    "   )\n",
    "glrm_model.train(training_frame=train)"
   ]
  }
 ],
 "metadata": {
  "kernelspec": {
   "display_name": "Python 3",
   "language": "python",
   "name": "python3"
  },
  "language_info": {
   "codemirror_mode": {
    "name": "ipython",
    "version": 3
   },
   "file_extension": ".py",
   "mimetype": "text/x-python",
   "name": "python",
   "nbconvert_exporter": "python",
   "pygments_lexer": "ipython3",
   "version": "3.7.8"
  },
  "toc-autonumbering": true,
  "toc-showcode": false,
  "toc-showmarkdowntxt": false,
  "toc-showtags": false
 },
 "nbformat": 4,
 "nbformat_minor": 4
}
