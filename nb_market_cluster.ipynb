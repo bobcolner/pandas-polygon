{
 "cells": [
  {
   "cell_type": "markdown",
   "metadata": {
    "execution": {
     "iopub.execute_input": "2020-12-10T21:05:39.763294Z",
     "iopub.status.busy": "2020-12-10T21:05:39.762634Z",
     "iopub.status.idle": "2020-12-10T21:05:39.770387Z",
     "shell.execute_reply": "2020-12-10T21:05:39.768788Z",
     "shell.execute_reply.started": "2020-12-10T21:05:39.763162Z"
    }
   },
   "source": [
    "# Imports"
   ]
  },
  {
   "cell_type": "code",
   "execution_count": 3,
   "metadata": {
    "execution": {
     "iopub.execute_input": "2020-12-24T18:25:29.083808Z",
     "iopub.status.busy": "2020-12-24T18:25:29.082918Z",
     "iopub.status.idle": "2020-12-24T18:25:29.210768Z",
     "shell.execute_reply": "2020-12-24T18:25:29.208750Z",
     "shell.execute_reply.started": "2020-12-24T18:25:29.083742Z"
    }
   },
   "outputs": [
    {
     "name": "stdout",
     "output_type": "stream",
     "text": [
      "The autoreload extension is already loaded. To reload it, use:\n",
      "  %reload_ext autoreload\n"
     ]
    }
   ],
   "source": [
    "%load_ext autoreload\n",
    "%autoreload 2\n",
    "\n",
    "import numpy as np\n",
    "import pandas as pd\n",
    "pd.set_option('float_format', '{:f}'.format)\n",
    "pd.set_option('display.max_rows', 50)\n",
    "pd.set_option('display.max_columns', 40)\n",
    "# pd.set_option('display.width', 1000)\n",
    "from qgrid import show_grid\n",
    "\n",
    "import pandas_bokeh\n",
    "import matplotlib as mpl\n",
    "import matplotlib.pyplot as plt\n",
    "from matplotlib import style\n",
    "style.use('fivethirtyeight')\n",
    "mpl.rcParams['figure.figsize'] = [20, 7]\n",
    "\n",
    "import polygon_ds as pds\n",
    "import polygon_df as pdf\n",
    "import polygon_s3 as ps3\n",
    "import market_details_flow as rsd\n",
    "import market_preprocess as mp\n",
    "import market_cov as mcov\n",
    "import market_cluster as mc\n",
    "from utils_pickle import pickle_dump, pickle_load\n",
    "# import ipdb\n",
    "# ipdb.set_trace(context=10)"
   ]
  },
  {
   "cell_type": "markdown",
   "metadata": {
    "execution": {
     "iopub.execute_input": "2020-12-10T21:06:09.254171Z",
     "iopub.status.busy": "2020-12-10T21:06:09.253580Z",
     "iopub.status.idle": "2020-12-10T21:06:09.265908Z",
     "shell.execute_reply": "2020-12-10T21:06:09.264917Z",
     "shell.execute_reply.started": "2020-12-10T21:06:09.254129Z"
    }
   },
   "source": [
    "# Cluster market symbols"
   ]
  },
  {
   "cell_type": "code",
   "execution_count": 58,
   "metadata": {
    "execution": {
     "iopub.execute_input": "2020-12-23T23:21:49.728973Z",
     "iopub.status.busy": "2020-12-23T23:21:49.728354Z",
     "iopub.status.idle": "2020-12-23T23:22:49.199623Z",
     "shell.execute_reply": "2020-12-23T23:22:49.198070Z",
     "shell.execute_reply.started": "2020-12-23T23:21:49.728926Z"
    }
   },
   "outputs": [
    {
     "name": "stdout",
     "output_type": "stream",
     "text": [
      "4502494 Initial rows 11509 symbols\n",
      "-1460110 all dates filter 5784 symbols\n",
      "-383980 liquidity filter 5054 symbols\n",
      "-125188 volitility filter 4816 symbols\n",
      "-24196 min $value filter 4770 symbols\n",
      "-706944 symbol details filter 3426 symbols\n",
      "1802076 Final rows 40.0 % remaining\n"
     ]
    },
    {
     "name": "stderr",
     "output_type": "stream",
     "text": [
      "100%|██████████| 3426/3426 [00:31<00:00, 109.82it/s]\n"
     ]
    }
   ],
   "source": [
    "# load and pre-process market daily data\n",
    "\n",
    "start_date = '2018-10-24'\n",
    "end_date = '2020-11-24'\n",
    "\n",
    "# r = mp.prepare_data(start_date, end_date, beta_symbol='VTI')\n",
    "\n",
    "# pickle_dump(r, 'data/r.pkl')\n",
    "r = pickle_load('data/r.pkl')"
   ]
  },
  {
   "cell_type": "code",
   "execution_count": 60,
   "metadata": {
    "execution": {
     "iopub.execute_input": "2020-12-23T23:27:46.472898Z",
     "iopub.status.busy": "2020-12-23T23:27:46.472423Z",
     "iopub.status.idle": "2020-12-23T23:28:11.401308Z",
     "shell.execute_reply": "2020-12-23T23:28:11.399798Z",
     "shell.execute_reply.started": "2020-12-23T23:27:46.472856Z"
    }
   },
   "outputs": [],
   "source": [
    "# cluster dataset\n",
    "\n",
    "X = r['g_zs_log_returns_resid']\n",
    "Xt = X.transpose()\n",
    "gt_industry = r['symbol_meta'].industry.values\n",
    "gt_sector = r['symbol_meta'].sector.values\n",
    "\n",
    "# compute covariance/correlation/distance/similarity matrics\n",
    "\n",
    "dist_mat, cor_mat = mcov.cov_denoise_detone_dist(X, detone=False)\n",
    "abs_cor_mat = abs(cor_mat)"
   ]
  },
  {
   "cell_type": "code",
   "execution_count": 177,
   "metadata": {
    "execution": {
     "iopub.execute_input": "2020-12-24T08:40:48.475387Z",
     "iopub.status.busy": "2020-12-24T08:40:48.472790Z",
     "iopub.status.idle": "2020-12-24T08:41:32.969517Z",
     "shell.execute_reply": "2020-12-24T08:41:32.966395Z",
     "shell.execute_reply.started": "2020-12-24T08:40:48.475226Z"
    }
   },
   "outputs": [],
   "source": [
    "# fit cluster models and evalue vs. ground truth labels\n",
    "\n",
    "kclust = mc.cluster_ground_truth_eval(mc.get_kmean_clusters, 200, Xt, gt_industry)\n",
    "print(kclust['adj. multual information'])\n",
    "\n",
    "hclust = mc.cluster_ground_truth_eval(mc.get_hira_clusters, 200, Xt, gt_industry)\n",
    "print(hclust['adj. multual information'])\n",
    "# k=100\n",
    "# 0.40230760295593404\n",
    "# 0.4357061244632522\n",
    "\n",
    "# k=200\n",
    "# 0.40757595584237727\n",
    "# 0.4304010633801613"
   ]
  },
  {
   "cell_type": "code",
   "execution_count": 180,
   "metadata": {
    "execution": {
     "iopub.execute_input": "2020-12-24T08:42:31.821215Z",
     "iopub.status.busy": "2020-12-24T08:42:31.819151Z",
     "iopub.status.idle": "2020-12-24T08:44:13.372374Z",
     "shell.execute_reply": "2020-12-24T08:44:13.363603Z",
     "shell.execute_reply.started": "2020-12-24T08:42:31.821092Z"
    }
   },
   "outputs": [
    {
     "name": "stdout",
     "output_type": "stream",
     "text": [
      "0.380596359954724\n"
     ]
    }
   ],
   "source": [
    "kcclust = mc.cluster_ground_truth_eval(mc.get_kmean_constrained_clusters, 200, Xt, gt_industry)\n",
    "print(kcclust['adj. multual information'])\n",
    "# k=200\n",
    "# 0.380596359954724"
   ]
  },
  {
   "cell_type": "code",
   "execution_count": 188,
   "metadata": {
    "execution": {
     "iopub.execute_input": "2020-12-24T08:49:21.371917Z",
     "iopub.status.busy": "2020-12-24T08:49:21.370617Z",
     "iopub.status.idle": "2020-12-24T08:49:23.958136Z",
     "shell.execute_reply": "2020-12-24T08:49:23.954242Z",
     "shell.execute_reply.started": "2020-12-24T08:49:21.371827Z"
    }
   },
   "outputs": [
    {
     "data": {
      "text/plain": [
       "<AxesSubplot:>"
      ]
     },
     "execution_count": 188,
     "metadata": {},
     "output_type": "execute_result"
    },
    {
     "data": {
      "image/png": "[encoded data removed]",
      "text/plain": [
       "<Figure size 1440x504 with 1 Axes>"
      ]
     },
     "metadata": {},
     "output_type": "display_data"
    }
   ],
   "source": [
    "# compute cluster descriptive stats\n",
    "\n",
    "cluster_df = mc.cluster_metrics(lables=hclust['cluster_labels'], dist_mat=dist_mat, sym_meta=r['symbol_meta'])\n",
    "\n",
    "cluster_df.cluster_size.hist(bins=20)"
   ]
  },
  {
   "cell_type": "code",
   "execution_count": 189,
   "metadata": {
    "execution": {
     "iopub.execute_input": "2020-12-24T08:50:26.235507Z",
     "iopub.status.busy": "2020-12-24T08:50:26.233964Z",
     "iopub.status.idle": "2020-12-24T08:50:26.475408Z",
     "shell.execute_reply": "2020-12-24T08:50:26.474074Z",
     "shell.execute_reply.started": "2020-12-24T08:50:26.235442Z"
    }
   },
   "outputs": [],
   "source": [
    "# cluster filters\n",
    "\n",
    "out = cluster_df\n",
    "\n",
    "size_mask = (out.cluster_size > 5)\n",
    "\n",
    "similartiy_mask = out.avg_similartiy > out.avg_similartiy.quantile(q=0.25)\n",
    "\n",
    "sector_purity_mask = out.sector_purity > out.sector_purity.quantile(q=0.25)\n",
    "\n",
    "industry_purity_mask = out.industry_purity > out.industry_purity.quantile(q=0.25)\n",
    "\n",
    "range_value_mask = out.avg_range_value_pct > out.avg_range_value_pct.quantile(q=0.25)\n",
    "\n",
    "out_f = out[range_value_mask & similartiy_mask].sort_values('avg_similartiy', ascending=False)[:9]"
   ]
  },
  {
   "cell_type": "code",
   "execution_count": 190,
   "metadata": {
    "execution": {
     "iopub.execute_input": "2020-12-24T08:50:26.853467Z",
     "iopub.status.busy": "2020-12-24T08:50:26.841281Z",
     "iopub.status.idle": "2020-12-24T08:50:27.172795Z",
     "shell.execute_reply": "2020-12-24T08:50:27.164488Z",
     "shell.execute_reply.started": "2020-12-24T08:50:26.853370Z"
    }
   },
   "outputs": [
    {
     "data": {
      "application/vnd.jupyter.widget-view+json": {
       "model_id": "0b6b99c461e1444295a653813fae06d0",
       "version_major": 2,
       "version_minor": 0
      },
      "text/plain": [
       "QgridWidget(grid_options={'fullWidthRows': True, 'syncColumnCellResize': True, 'forceFitColumns': True, 'defau…"
      ]
     },
     "metadata": {},
     "output_type": "display_data"
    }
   ],
   "source": [
    "show_grid(out.drop(columns=['symbols_dist_df','symbols_meta_df']))"
   ]
  },
  {
   "cell_type": "code",
   "execution_count": 162,
   "metadata": {
    "collapsed": true,
    "execution": {
     "iopub.execute_input": "2020-12-24T08:21:44.576935Z",
     "iopub.status.busy": "2020-12-24T08:21:44.575967Z",
     "iopub.status.idle": "2020-12-24T08:21:45.253344Z",
     "shell.execute_reply": "2020-12-24T08:21:45.153733Z",
     "shell.execute_reply.started": "2020-12-24T08:21:44.576854Z"
    },
    "jupyter": {
     "outputs_hidden": true
    }
   },
   "outputs": [
    {
     "data": {
      "application/vnd.jupyter.widget-view+json": {
       "model_id": "6627bb70408545f4900ad9abb74d46b2",
       "version_major": 2,
       "version_minor": 0
      },
      "text/plain": [
       "QgridWidget(grid_options={'fullWidthRows': True, 'syncColumnCellResize': True, 'forceFitColumns': True, 'defau…"
      ]
     },
     "metadata": {},
     "output_type": "display_data"
    }
   ],
   "source": [
    "show_grid(cluster_df.iloc[1].symbols_meta_df)"
   ]
  },
  {
   "cell_type": "markdown",
   "metadata": {
    "execution": {
     "iopub.execute_input": "2020-12-10T21:06:43.920435Z",
     "iopub.status.busy": "2020-12-10T21:06:43.919822Z",
     "iopub.status.idle": "2020-12-10T21:06:43.931123Z",
     "shell.execute_reply": "2020-12-10T21:06:43.929930Z",
     "shell.execute_reply.started": "2020-12-10T21:06:43.920390Z"
    }
   },
   "source": [
    "# Corex"
   ]
  },
  {
   "cell_type": "code",
   "execution_count": null,
   "metadata": {},
   "outputs": [],
   "source": [
    "import market_corex as corex\n",
    "\n",
    "# corex200 = up.pickle_load('data/corex200.pkl')\n",
    "\n",
    "corex, full_df = corex.corex_fit(X, n_hidden=200)\n",
    "\n",
    "# up.pickle_dump((corex, full_df), file_name='corex200.pkl')\n",
    "\n",
    "# gsutil copy /Users/bobcolner/QuantClarity/pandas-polygon/corex200.pkl gs://emerald-skill-datascience/"
   ]
  },
  {
   "cell_type": "markdown",
   "metadata": {},
   "source": [
    "# GLRM"
   ]
  },
  {
   "cell_type": "code",
   "execution_count": null,
   "metadata": {},
   "outputs": [],
   "source": [
    "import h2o\n",
    "from h2o.estimators import H2OGeneralizedLowRankEstimator\n",
    "h2o.init()\n",
    "\n",
    "# Import the USArrests dataset into H2O:\n",
    "arrestsH2O = h2o.import_file(\"https://s3.amazonaws.com/h2o-public-test-data/smalldata/pca_test/USArrests.csv\")\n",
    "\n",
    "# Split the dataset into a train and valid set:\n",
    "train, valid = arrestsH2O.split_frame(ratios=[.8], seed=1234)\n",
    "\n",
    "# Build and train the model:\n",
    "glrm_model = H2OGeneralizedLowRankEstimator(\n",
    "    k=4,\n",
    "    loss=\"Huber\",\n",
    "    loss_by_col={'cat_var': 'Categorical'},\n",
    "    regularization_x=\"OneSparse\", # None (default), Quadratic, L2, L1, NonNegative, OneSparse, UnitOneSparse, Simplex.\n",
    "    regularization_y=\"OneSparse\",\n",
    "    gamma_x=0.5,\n",
    "    gamma_y=0.5,\n",
    "    max_iterations=1000,\n",
    "    recover_svd=True,\n",
    "    init=\"PlusPlus\",\n",
    "    transform=\"standardize\",\n",
    "   )\n",
    "glrm_model.train(training_frame=train)"
   ]
  }
 ],
 "metadata": {
  "kernelspec": {
   "display_name": "Python 3",
   "language": "python",
   "name": "python3"
  },
  "language_info": {
   "codemirror_mode": {
    "name": "ipython",
    "version": 3
   },
   "file_extension": ".py",
   "mimetype": "text/x-python",
   "name": "python",
   "nbconvert_exporter": "python",
   "pygments_lexer": "ipython3",
   "version": "3.9.1"
  },
  "toc-autonumbering": true,
  "toc-showcode": false,
  "toc-showmarkdowntxt": false,
  "toc-showtags": false
 },
 "nbformat": 4,
 "nbformat_minor": 4
}
