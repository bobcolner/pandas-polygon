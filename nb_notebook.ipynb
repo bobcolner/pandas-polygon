{
 "cells": [
  {
   "cell_type": "markdown",
   "metadata": {},
   "source": [
    "# Imports"
   ]
  },
  {
   "cell_type": "code",
   "execution_count": 2,
   "metadata": {
    "ExecuteTime": {
     "end_time": "2020-09-30T01:17:28.615776Z",
     "start_time": "2020-09-30T01:17:28.454787Z"
    },
    "execution": {
     "iopub.execute_input": "2020-12-24T18:26:29.964422Z",
     "iopub.status.busy": "2020-12-24T18:26:29.963983Z",
     "iopub.status.idle": "2020-12-24T18:26:30.137046Z",
     "shell.execute_reply": "2020-12-24T18:26:30.134369Z",
     "shell.execute_reply.started": "2020-12-24T18:26:29.964382Z"
    }
   },
   "outputs": [
    {
     "name": "stdout",
     "output_type": "stream",
     "text": [
      "The autoreload extension is already loaded. To reload it, use:\n",
      "  %reload_ext autoreload\n"
     ]
    }
   ],
   "source": [
    "%load_ext autoreload\n",
    "%autoreload 2\n",
    "\n",
    "import numpy as np\n",
    "import pandas as pd\n",
    "pd.set_option('float_format', '{:f}'.format)\n",
    "pd.set_option('display.max_rows', 30)\n",
    "pd.set_option('display.max_columns', 99)\n",
    "import pandas_bokeh\n",
    "pandas_bokeh.output_file(\"data/bokeh_output.html\")\n",
    "from qgrid import show_grid\n",
    "# import finplot as fplt\n",
    "\n",
    "import polygon_rest_api as papi\n",
    "import polygon_ws_api as pws\n",
    "import polygon_df as pdf\n",
    "import polygon_ds as pds\n",
    "import polygon_s3 as ps3\n",
    "import polygon_backfill_flow as fb\n",
    "\n",
    "import bar_samples as bs\n",
    "import bar_labels as bl\n",
    "import bar_ray_workflow as bm\n",
    "\n",
    "import utils_filters as ft\n",
    "\n",
    "import matplotlib as mpl\n",
    "from matplotlib import style\n",
    "style.use('fivethirtyeight')\n",
    "mpl.rcParams['figure.figsize'] = [20, 7]\n",
    "\n",
    "# import ipdb\n",
    "# ipdb.set_trace(context=10)\n",
    "\n",
    "# df.style.background_gradient(cmap='coolwarm', axis=None, vmin=-1, vmax=1)  # 'Blues', 'coolwarm', 'RdBu_r' & 'BrBG' are other good diverging colormaps\n",
    "# pd.set_option('precision', 2)\n",
    "\n",
    "# .plot_bokeh(sizing_mode=\"scale_height\")"
   ]
  },
  {
   "cell_type": "markdown",
   "metadata": {
    "execution": {
     "iopub.execute_input": "2020-12-09T07:15:12.867876Z",
     "iopub.status.busy": "2020-12-09T07:15:12.867428Z",
     "iopub.status.idle": "2020-12-09T07:15:12.887564Z",
     "shell.execute_reply": "2020-12-09T07:15:12.872405Z",
     "shell.execute_reply.started": "2020-12-09T07:15:12.867835Z"
    }
   },
   "source": [
    "# Backfill Data"
   ]
  },
  {
   "cell_type": "code",
   "execution_count": 26,
   "metadata": {
    "execution": {
     "iopub.execute_input": "2020-12-24T18:47:31.277182Z",
     "iopub.status.busy": "2020-12-24T18:47:31.271629Z",
     "iopub.status.idle": "2020-12-24T18:47:31.512902Z",
     "shell.execute_reply": "2020-12-24T18:47:31.510156Z",
     "shell.execute_reply.started": "2020-12-24T18:47:31.276993Z"
    }
   },
   "outputs": [],
   "source": [
    "clust_gold = ['AEM', 'AGI', 'ASA', 'AU', 'AUY', 'BTG', 'DRD', 'EGO', 'FNV', 'GFI', 'HMY', 'IAG', 'KGC', 'KL', 'NEM', 'NG', 'OR', 'PAAS', 'RGLD', 'SA', 'SAND', 'SSRM', 'WPM']\n",
    "clust_silver = ['AG', 'AXU', 'BVN', 'CDE', 'EXK', 'FSM', 'GORO', 'GSS', 'HL', 'MAG', 'MUX', 'PVG', 'SVM', 'USAS']\n",
    "all_sym = clust_gold + clust_silver + ['VTI', 'GLD']"
   ]
  },
  {
   "cell_type": "code",
   "execution_count": 41,
   "metadata": {
    "execution": {
     "iopub.execute_input": "2020-12-25T05:44:25.068904Z",
     "iopub.status.busy": "2020-12-25T05:44:25.068145Z",
     "iopub.status.idle": "2020-12-25T05:44:25.273565Z",
     "shell.execute_reply": "2020-12-25T05:44:25.271600Z",
     "shell.execute_reply.started": "2020-12-25T05:44:25.068807Z"
    }
   },
   "outputs": [
    {
     "data": {
      "text/plain": [
       "datetime.datetime(2020, 12, 24, 21, 44, 25, 266839)"
      ]
     },
     "execution_count": 41,
     "metadata": {},
     "output_type": "execute_result"
    }
   ],
   "source": [
    "datetime.today()"
   ]
  },
  {
   "cell_type": "code",
   "execution_count": 37,
   "metadata": {
    "execution": {
     "iopub.execute_input": "2020-12-25T05:43:57.320563Z",
     "iopub.status.busy": "2020-12-25T05:43:57.319901Z",
     "iopub.status.idle": "2020-12-25T05:43:57.622035Z",
     "shell.execute_reply": "2020-12-25T05:43:57.612982Z",
     "shell.execute_reply.started": "2020-12-25T05:43:57.320431Z"
    }
   },
   "outputs": [
    {
     "data": {
      "text/plain": [
       "'2020-12-23'"
      ]
     },
     "execution_count": 37,
     "metadata": {},
     "output_type": "execute_result"
    }
   ],
   "source": [
    "from datetime import datetime, timedelta, date\n",
    "(date.today() - timedelta(days=1)).isoformat()"
   ]
  },
  {
   "cell_type": "code",
   "execution_count": 33,
   "metadata": {
    "execution": {
     "iopub.execute_input": "2020-12-24T20:06:22.283669Z",
     "iopub.status.busy": "2020-12-24T20:06:22.283214Z",
     "iopub.status.idle": "2020-12-24T20:06:23.059463Z",
     "shell.execute_reply": "2020-12-24T20:06:23.057603Z",
     "shell.execute_reply.started": "2020-12-24T20:06:22.283628Z"
    }
   },
   "outputs": [
    {
     "data": {
      "text/plain": [
       "0       2016-01-04\n",
       "1       2016-01-05\n",
       "2       2016-01-06\n",
       "3       2016-01-07\n",
       "4       2016-01-08\n",
       "           ...    \n",
       "1249    2020-12-17\n",
       "1250    2020-12-18\n",
       "1251    2020-12-21\n",
       "1252    2020-12-22\n",
       "1253    2020-12-23\n",
       "Length: 1254, dtype: object"
      ]
     },
     "execution_count": 33,
     "metadata": {},
     "output_type": "execute_result"
    }
   ],
   "source": [
    "pd.Series(ps3.list_symbol_dates('market','daily'))"
   ]
  },
  {
   "cell_type": "code",
   "execution_count": 31,
   "metadata": {
    "execution": {
     "iopub.execute_input": "2020-12-24T20:04:36.196849Z",
     "iopub.status.busy": "2020-12-24T20:04:36.196346Z",
     "iopub.status.idle": "2020-12-24T20:04:40.954468Z",
     "shell.execute_reply": "2020-12-24T20:04:40.952552Z",
     "shell.execute_reply.started": "2020-12-24T20:04:36.196801Z"
    }
   },
   "outputs": [
    {
     "name": "stdout",
     "output_type": "stream",
     "text": [
      "[2020-12-24 12:04:36-0800] INFO - prefect.FlowRunner | Beginning Flow run for 'backfill-flow'\n",
      "[2020-12-24 12:04:36-0800] INFO - prefect.TaskRunner | Task 'start_date': Starting task run...\n",
      "[2020-12-24 12:04:36-0800] INFO - prefect.TaskRunner | Task 'start_date': Finished task run for task with final state: 'Success'\n",
      "[2020-12-24 12:04:36-0800] INFO - prefect.TaskRunner | Task 'symbols': Starting task run...\n",
      "[2020-12-24 12:04:36-0800] INFO - prefect.TaskRunner | Task 'end_date': Starting task run...\n",
      "[2020-12-24 12:04:36-0800] INFO - prefect.TaskRunner | Task 'symbols': Finished task run for task with final state: 'Success'\n",
      "[2020-12-24 12:04:36-0800] INFO - prefect.TaskRunner | Task 'tick_type': Starting task run...\n",
      "[2020-12-24 12:04:36-0800] INFO - prefect.TaskRunner | Task 'end_date': Finished task run for task with final state: 'Success'\n",
      "[2020-12-24 12:04:36-0800] INFO - prefect.TaskRunner | Task 'tick_type': Finished task run for task with final state: 'Success'\n",
      "[2020-12-24 12:04:37-0800] INFO - prefect.TaskRunner | Task 'get_remaining_symbol_dates': Starting task run...\n",
      "[2020-12-24 12:04:37-0800] INFO - prefect.TaskRunner | Task 'get_remaining_symbol_dates': Finished task run for task with final state: 'Success'\n",
      "[2020-12-24 12:04:38-0800] INFO - prefect.TaskRunner | Task 'backfill_date_task': Starting task run...\n",
      "[2020-12-24 12:04:38-0800] INFO - prefect.TaskRunner | Task 'backfill_date_task': Finished task run for task with final state: 'Mapped'\n",
      "[2020-12-24 12:04:38-0800] INFO - prefect.TaskRunner | Task 'backfill_date_task[0]': Starting task run...\n",
      "market 2020-11-24 getting data fron polygon api\n",
      "market 2020-11-24 putting data to S3/B2\n",
      "market 2020-11-24 saving data to local file\n",
      "[2020-12-24 12:04:39-0800] INFO - prefect.TaskRunner | Task 'backfill_date_task[0]': Finished task run for task with final state: 'Success'\n",
      "[2020-12-24 12:04:40-0800] INFO - prefect.FlowRunner | Flow run SUCCESS: all reference tasks succeeded\n"
     ]
    },
    {
     "data": {
      "text/plain": [
       "<Success: \"All reference tasks succeeded.\">"
      ]
     },
     "execution_count": 31,
     "metadata": {},
     "output_type": "execute_result"
    }
   ],
   "source": [
    "# backfill market daily\n",
    "\n",
    "fb.run_flow(\n",
    "    symbols=['market'],\n",
    "    tick_type='daily',\n",
    "    start_date='2016-01-01',\n",
    "    n_workers=4,\n",
    "    threads_per_worker=8\n",
    ")"
   ]
  },
  {
   "cell_type": "code",
   "execution_count": null,
   "metadata": {},
   "outputs": [],
   "source": [
    "# backfill trades\n",
    "\n",
    "fb.run_flow(\n",
    "    symbols=all_sym,\n",
    "    tick_type='trades', \n",
    "    start_date='2019-01-01', \n",
    "    n_workers=2, \n",
    "    threads_per_worker=4\n",
    ")"
   ]
  },
  {
   "cell_type": "markdown",
   "metadata": {},
   "source": [
    "# Sample Ticks"
   ]
  },
  {
   "cell_type": "code",
   "execution_count": null,
   "metadata": {},
   "outputs": [],
   "source": [
    "symbol = 'VTI'\n",
    "start_date = '2020-11-01'\n",
    "end_date = '2020-11-31'\n",
    "date = '2020-11-13'\n",
    "\n",
    "ticks_df = ps3.fetch_date_df(symbol, date, tick_type='trades')\n",
    "daily_df = bm.get_symbol_vol_filter(symbol, start_date, end_date)"
   ]
  },
  {
   "cell_type": "code",
   "execution_count": null,
   "metadata": {},
   "outputs": [],
   "source": [
    "rs = daily_df[daily_df.date == date]['range_jma_lag'].values[0] / 30\n",
    "\n",
    "thresh = {\n",
    "    # max thresholds\n",
    "    'renko_size': rs,\n",
    "    'renko_return': 'jma_return',\n",
    "    'renko_reveral_multiple': 2,\n",
    "    'max_duration_sec': 60*60*2,  # 2hours\n",
    "    \n",
    "    # min thresholds\n",
    "    'min_duration_sec': 17,\n",
    "    'min_tick_count': 30,\n",
    "}\n",
    "\n",
    "# sample bars\n",
    "bars, ticks = bs.build_bars(ticks_df, thresh)\n",
    "\n",
    "ticks2_df = pd.DataFrame(ticks)\n",
    "bars_df = pd.DataFrame(bars)\n",
    "\n",
    "ticks2_df.status.value_counts()"
   ]
  },
  {
   "cell_type": "code",
   "execution_count": null,
   "metadata": {},
   "outputs": [],
   "source": [
    "bars_df.duration_td.describe(percentiles=[.01,.1,.8,.95])"
   ]
  },
  {
   "cell_type": "code",
   "execution_count": null,
   "metadata": {},
   "outputs": [],
   "source": [
    "pd.plotting.autocorrelation_plot(bars_df.jma_return)"
   ]
  },
  {
   "cell_type": "code",
   "execution_count": null,
   "metadata": {},
   "outputs": [],
   "source": [
    "# bars_df[['jma_close','jma_high','jma_low']].plot()\n",
    "bars_df[['jma_wq10', 'jma_wq90','jma_wmean']].plot_bokeh(sizing_mode=\"scale_height\")\n",
    "# plot_bokeh(sizing_mode=\"scale_height\")"
   ]
  },
  {
   "cell_type": "code",
   "execution_count": null,
   "metadata": {},
   "outputs": [],
   "source": [
    "ticks2_df[ticks2_df.status=='clean'].set_index('date_time').loc[:, ['price', 'jma']].plot()"
   ]
  },
  {
   "cell_type": "code",
   "execution_count": null,
   "metadata": {},
   "outputs": [],
   "source": [
    "ixs += 1000\n",
    "# ixs = 0\n",
    "ixe = ixs+1000\n",
    "\n",
    "ticks2_df[ticks2_df.status=='clean'].loc[ixs:ixe, ['price', 'jma']].plot()\n",
    "\n",
    "# ticks2_df[['price', 'jma']][ixs:ixe].plot()"
   ]
  },
  {
   "cell_type": "code",
   "execution_count": null,
   "metadata": {},
   "outputs": [],
   "source": [
    "st = '16:20:00'\n",
    "et = '16:30:00'\n",
    "\n",
    "dfa = ticks2_df.set_index('date_time').between_time(st, et)[['price', 'jma']]\n",
    "dfc = ticks2_df[ticks2_df.status=='clean'].set_index('date_time').between_time(st, et)[['price', 'jma']]\n",
    "\n",
    "dfc[['price', 'jma']].plot()\n",
    "\n",
    "# post-hoc JMA\n",
    "# ft.jma_filter_df(dfc, col='price', length=7, power=2)[['price', 'jma']].plot()\n",
    "# .plot_bokeh(sizing_mode=\"scale_height\")"
   ]
  },
  {
   "cell_type": "markdown",
   "metadata": {},
   "source": [
    "# Build Bars Workflow"
   ]
  },
  {
   "cell_type": "code",
   "execution_count": null,
   "metadata": {},
   "outputs": [],
   "source": [
    "ray.init(ignore_reinit_error=True, num_cpus=4, dashboard_port=8080)"
   ]
  },
  {
   "cell_type": "code",
   "execution_count": null,
   "metadata": {},
   "outputs": [],
   "source": [
    "daily_bar_stats_df, labeled_bar_dates, stacked_bars_df = bm.bars_workflow_ray(\n",
    "    symbol, \n",
    "    start_date,\n",
    "    end_date, \n",
    "    thresh,\n",
    ")"
   ]
  },
  {
   "cell_type": "code",
   "execution_count": null,
   "metadata": {},
   "outputs": [],
   "source": [
    "ray.shutdown()"
   ]
  }
 ],
 "metadata": {
  "kernelspec": {
   "display_name": "Python 3",
   "language": "python",
   "name": "python3"
  },
  "language_info": {
   "codemirror_mode": {
    "name": "ipython",
    "version": 3
   },
   "file_extension": ".py",
   "mimetype": "text/x-python",
   "name": "python",
   "nbconvert_exporter": "python",
   "pygments_lexer": "ipython3",
   "version": "3.7.8"
  },
  "toc-autonumbering": false,
  "toc-showcode": false,
  "toc-showmarkdowntxt": true,
  "varInspector": {
   "cols": {
    "lenName": 16,
    "lenType": 16,
    "lenVar": 40
   },
   "kernels_config": {
    "python": {
     "delete_cmd_postfix": "",
     "delete_cmd_prefix": "del ",
     "library": "var_list.py",
     "varRefreshCmd": "print(var_dic_list())"
    },
    "r": {
     "delete_cmd_postfix": ") ",
     "delete_cmd_prefix": "rm(",
     "library": "var_list.r",
     "varRefreshCmd": "cat(var_dic_list()) "
    }
   },
   "types_to_exclude": [
    "module",
    "function",
    "builtin_function_or_method",
    "instance",
    "_Feature"
   ],
   "window_display": false
  }
 },
 "nbformat": 4,
 "nbformat_minor": 4
}
