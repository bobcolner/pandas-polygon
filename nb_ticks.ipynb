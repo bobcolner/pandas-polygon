{
 "cells": [
  {
   "cell_type": "markdown",
   "metadata": {},
   "source": [
    "# Imports"
   ]
  },
  {
   "cell_type": "code",
   "execution_count": 24,
   "metadata": {
    "ExecuteTime": {
     "end_time": "2020-09-30T01:17:28.615776Z",
     "start_time": "2020-09-30T01:17:28.454787Z"
    },
    "execution": {
     "iopub.execute_input": "2020-12-29T04:57:59.144658Z",
     "iopub.status.busy": "2020-12-29T04:57:59.144506Z",
     "iopub.status.idle": "2020-12-29T04:57:59.169507Z",
     "shell.execute_reply": "2020-12-29T04:57:59.169345Z",
     "shell.execute_reply.started": "2020-12-29T04:57:59.144628Z"
    }
   },
   "outputs": [],
   "source": [
    "# %load_ext autoreload\n",
    "# %autoreload 2\n",
    "\n",
    "import numpy as np\n",
    "import pandas as pd\n",
    "pd.set_option('float_format', '{:f}'.format)\n",
    "pd.set_option('display.max_rows', 30)\n",
    "pd.set_option('display.max_columns', 99)\n",
    "import pandas_bokeh\n",
    "pandas_bokeh.output_file(\"data/bokeh_output.html\")\n",
    "# from qgrid import show_grid\n",
    "# import finplot as fplt\n",
    "\n",
    "import polygon_rest_api as papi\n",
    "# import polygon_ws_api as pws\n",
    "import polygon_df as pdf\n",
    "import polygon_ds as pds\n",
    "import polygon_s3 as ps3\n",
    "import polygon_backfill_flow as fb\n",
    "\n",
    "import bar_samples as bs\n",
    "import bar_labels as bl\n",
    "import bar_workflow as bm\n",
    "\n",
    "import utils_filters as ft\n",
    "\n",
    "import matplotlib as mpl\n",
    "from matplotlib import style\n",
    "style.use('fivethirtyeight')\n",
    "mpl.rcParams['figure.figsize'] = [20, 7]\n",
    "\n",
    "# import ipdb\n",
    "# ipdb.set_trace(context=10)\n",
    "\n",
    "# df.style.background_gradient(cmap='coolwarm', axis=None, vmin=-1, vmax=1)  # 'Blues', 'coolwarm', 'RdBu_r' & 'BrBG' are other good diverging colormaps\n",
    "# pd.set_option('precision', 2)\n",
    "\n",
    "# .plot_bokeh(sizing_mode=\"scale_height\")"
   ]
  },
  {
   "cell_type": "markdown",
   "metadata": {
    "execution": {
     "iopub.execute_input": "2020-12-09T07:15:12.867876Z",
     "iopub.status.busy": "2020-12-09T07:15:12.867428Z",
     "iopub.status.idle": "2020-12-09T07:15:12.887564Z",
     "shell.execute_reply": "2020-12-09T07:15:12.872405Z",
     "shell.execute_reply.started": "2020-12-09T07:15:12.867835Z"
    }
   },
   "source": [
    "# Backfill Data"
   ]
  },
  {
   "cell_type": "code",
   "execution_count": null,
   "metadata": {},
   "outputs": [],
   "source": [
    "clust_gold = ['AEM', 'AGI', 'ASA', 'AU', 'AUY', 'BTG', 'DRD', 'EGO', 'FNV', 'GFI', 'HMY', 'IAG', 'KGC', 'KL', 'NEM', 'NG', 'OR', 'PAAS', 'RGLD', 'SA', 'SAND', 'SSRM', 'WPM']\n",
    "\n",
    "clust_silver = ['AG', 'AXU', 'BVN', 'CDE', 'EXK', 'FSM', 'GORO', 'GSS', 'HL', 'MAG', 'MUX', 'PVG', 'SVM', 'USAS']\n",
    "\n",
    "all_sym = clust_gold + clust_silver + ['VTI', 'GLD']"
   ]
  },
  {
   "cell_type": "code",
   "execution_count": 25,
   "metadata": {
    "execution": {
     "iopub.execute_input": "2020-12-29T04:58:07.349148Z",
     "iopub.status.busy": "2020-12-29T04:58:07.349037Z",
     "iopub.status.idle": "2020-12-29T04:58:07.688442Z",
     "shell.execute_reply": "2020-12-29T04:58:07.687711Z",
     "shell.execute_reply.started": "2020-12-29T04:58:07.349124Z"
    }
   },
   "outputs": [
    {
     "data": {
      "text/plain": [
       "0      2019-01-02\n",
       "1      2019-01-03\n",
       "2      2019-01-04\n",
       "3      2019-01-07\n",
       "4      2019-01-08\n",
       "          ...    \n",
       "496    2020-12-18\n",
       "497    2020-12-21\n",
       "498    2020-12-22\n",
       "499    2020-12-23\n",
       "500    2020-12-24\n",
       "Length: 501, dtype: object"
      ]
     },
     "execution_count": 25,
     "metadata": {},
     "output_type": "execute_result"
    }
   ],
   "source": [
    "# check existing data\n",
    "\n",
    "pd.Series(ps3.list_symbol_dates(symbol='VTI', tick_type='trades'))"
   ]
  },
  {
   "cell_type": "code",
   "execution_count": null,
   "metadata": {},
   "outputs": [],
   "source": [
    "# backfill market daily\n",
    "\n",
    "fb.run_flow(\n",
    "    symbols=['market'],\n",
    "    tick_type='daily',\n",
    "    start_date='2016-01-01',\n",
    "    n_workers=4,\n",
    "    threads_per_worker=8\n",
    ")"
   ]
  },
  {
   "cell_type": "code",
   "execution_count": null,
   "metadata": {},
   "outputs": [],
   "source": [
    "# backfill trades\n",
    "\n",
    "fb.run_flow(\n",
    "    symbols=all_sym,\n",
    "    tick_type='trades', \n",
    "    start_date='2019-01-01', \n",
    "    n_workers=2, \n",
    "    threads_per_worker=4\n",
    ")"
   ]
  },
  {
   "cell_type": "markdown",
   "metadata": {},
   "source": [
    "# Sample Ticks"
   ]
  },
  {
   "cell_type": "code",
   "execution_count": null,
   "metadata": {},
   "outputs": [],
   "source": [
    "symbol = 'VTI'\n",
    "start_date = '2020-11-01'\n",
    "end_date = '2020-11-31'\n",
    "date = '2020-11-19'\n",
    "\n",
    "ticks_df = ps3.fetch_date_df(symbol, date, tick_type='trades')\n",
    "daily_df = bm.get_symbol_vol_filter(symbol, start_date, end_date)"
   ]
  },
  {
   "cell_type": "code",
   "execution_count": 9,
   "metadata": {
    "execution": {
     "iopub.execute_input": "2020-12-29T04:52:22.915486Z",
     "iopub.status.busy": "2020-12-29T04:52:22.915367Z",
     "iopub.status.idle": "2020-12-29T04:52:22.954307Z",
     "shell.execute_reply": "2020-12-29T04:52:22.952915Z",
     "shell.execute_reply.started": "2020-12-29T04:52:22.915458Z"
    }
   },
   "outputs": [
    {
     "name": "stdout",
     "output_type": "stream",
     "text": [
      "renko size: 0.11021465487534905\n"
     ]
    }
   ],
   "source": [
    "# set sampling params\n",
    "\n",
    "range_est = daily_df[daily_df.date == date]['range_jma_lag'].values[0]\n",
    "\n",
    "pct_value_min = daily_df[daily_df.date == date].vwap_jma_lag.values[0] * 0.0005\n",
    "\n",
    "renko_size = max(range_est / 20, pct_value_min)\n",
    "print('renko size:', renko_size)\n",
    "\n",
    "thresh = {\n",
    "    # max thresholds\n",
    "    'renko_size': renko_size,\n",
    "    'renko_return': 'jma_return',\n",
    "    'renko_reveral_multiple': 2,\n",
    "    'max_duration_sec': 60*60*1/2,\n",
    "    # min thresholds\n",
    "    'min_duration_sec': 10,\n",
    "    'min_tick_count': 30,\n",
    "}\n",
    "\n",
    "ticks_df = ticks_df.set_index('sip_dt').between_time('14:30:00', '21:00:00').reset_index()"
   ]
  },
  {
   "cell_type": "code",
   "execution_count": 12,
   "metadata": {
    "execution": {
     "iopub.execute_input": "2020-12-29T04:52:30.259716Z",
     "iopub.status.busy": "2020-12-29T04:52:30.259536Z",
     "iopub.status.idle": "2020-12-29T04:52:33.649748Z",
     "shell.execute_reply": "2020-12-29T04:52:33.649595Z",
     "shell.execute_reply.started": "2020-12-29T04:52:30.259679Z"
    }
   },
   "outputs": [
    {
     "name": "stdout",
     "output_type": "stream",
     "text": [
      "69 bars\n"
     ]
    }
   ],
   "source": [
    "# sample bars\n",
    "bars, ticks_filtered = bs.build_bars(ticks_df, thresh)\n",
    "\n",
    "bars_df = pd.DataFrame(bars)\n",
    "\n",
    "ticks2_df = pd.DataFrame(ticks_filtered)\n",
    "\n",
    "ticks2_df.status.value_counts() / ticks2_df.shape[0]\n",
    "print(len(bars),'bars')"
   ]
  },
  {
   "cell_type": "code",
   "execution_count": 13,
   "metadata": {
    "execution": {
     "iopub.execute_input": "2020-12-29T04:52:33.650239Z",
     "iopub.status.busy": "2020-12-29T04:52:33.650092Z",
     "iopub.status.idle": "2020-12-29T04:52:33.655002Z",
     "shell.execute_reply": "2020-12-29T04:52:33.654687Z",
     "shell.execute_reply.started": "2020-12-29T04:52:33.650204Z"
    }
   },
   "outputs": [
    {
     "data": {
      "text/plain": [
       "renko_up      40\n",
       "renko_down    29\n",
       "Name: bar_trigger, dtype: int64"
      ]
     },
     "execution_count": 13,
     "metadata": {},
     "output_type": "execute_result"
    }
   ],
   "source": [
    "bars_df.bar_trigger.value_counts()"
   ]
  },
  {
   "cell_type": "code",
   "execution_count": 15,
   "metadata": {
    "execution": {
     "iopub.execute_input": "2020-12-29T04:52:44.942429Z",
     "iopub.status.busy": "2020-12-29T04:52:44.942281Z",
     "iopub.status.idle": "2020-12-29T04:52:45.177643Z",
     "shell.execute_reply": "2020-12-29T04:52:45.177402Z",
     "shell.execute_reply.started": "2020-12-29T04:52:44.942396Z"
    }
   },
   "outputs": [
    {
     "data": {
      "text/plain": [
       "<AxesSubplot:xlabel='date_time'>"
      ]
     },
     "execution_count": 15,
     "metadata": {},
     "output_type": "execute_result"
    }
   ],
   "source": [
    "ticks2_df['price_clean'] = ticks2_df.price\n",
    "\n",
    "ticks2_df.loc[ticks2_df.status!='clean', 'price_clean'] = None\n",
    "\n",
    "ticks2_df.set_index('date_time')[['price', 'price_clean']].plot()"
   ]
  },
  {
   "cell_type": "code",
   "execution_count": null,
   "metadata": {},
   "outputs": [],
   "source": [
    "# pd.plotting.autocorrelation_plot(bars_df.jma_return)\n",
    "\n",
    "# ixs = 0\n",
    "# ixe = ixs+1000\n",
    "# # ixs = 281\n",
    "# # ixe = ixs+200\n",
    "\n",
    "# # ticks2_df[ticks2_df.status=='clean'].loc[ixs:ixe, ['price', 'jma']].plot()\n",
    "# ticks2_df[ticks2_df.status=='clean'].loc[ixs:ixe, ['date_time', 'price', 'jma']].set_index('date_time').plot()\n",
    "\n",
    "# ticks2_df[ticks2_df.status=='clean'].set_index('date_time').between_time('14:25:00', '14:45:00')[['price', 'jma']].plot()\n",
    "# # .plot_bokeh(sizing_mode=\"scale_height\")"
   ]
  },
  {
   "cell_type": "markdown",
   "metadata": {
    "execution": {
     "iopub.execute_input": "2020-12-25T21:28:05.742194Z",
     "iopub.status.busy": "2020-12-25T21:28:05.741648Z",
     "iopub.status.idle": "2020-12-25T21:28:06.429739Z",
     "shell.execute_reply": "2020-12-25T21:28:06.428653Z",
     "shell.execute_reply.started": "2020-12-25T21:28:05.742152Z"
    }
   },
   "source": [
    "# Label Bars"
   ]
  },
  {
   "cell_type": "code",
   "execution_count": 16,
   "metadata": {
    "execution": {
     "iopub.execute_input": "2020-12-29T04:52:52.612587Z",
     "iopub.status.busy": "2020-12-29T04:52:52.607124Z",
     "iopub.status.idle": "2020-12-29T04:52:58.639205Z",
     "shell.execute_reply": "2020-12-29T04:52:58.639096Z",
     "shell.execute_reply.started": "2020-12-29T04:52:52.612534Z"
    }
   },
   "outputs": [
    {
     "data": {
      "text/plain": [
       "profit    0.739130\n",
       "neutral   0.260870\n",
       "Name: label_outcome, dtype: float64"
      ]
     },
     "execution_count": 16,
     "metadata": {},
     "output_type": "execute_result"
    }
   ],
   "source": [
    "from polygon_s3 import fetch_date_df\n",
    "from polygon_ds import get_dates_df\n",
    "\n",
    "# label bars\n",
    "labeled_bars = bl.label_bars(\n",
    "    bars=bars,\n",
    "    ticks_df=ticks2_df,\n",
    "    risk_level=renko_size*1,\n",
    "    horizon_mins=30,\n",
    "    reward_ratios=list(np.arange(2, 9, 0.5))\n",
    "    )\n",
    "\n",
    "labeled_bars_df = pd.DataFrame(labeled_bars)\n",
    "\n",
    "labeled_bars_df.label_outcome.value_counts() / labeled_bars_df.shape[0]"
   ]
  },
  {
   "cell_type": "code",
   "execution_count": 17,
   "metadata": {
    "execution": {
     "iopub.execute_input": "2020-12-29T04:52:58.639532Z",
     "iopub.status.busy": "2020-12-29T04:52:58.639457Z",
     "iopub.status.idle": "2020-12-29T04:52:58.645806Z",
     "shell.execute_reply": "2020-12-29T04:52:58.644589Z",
     "shell.execute_reply.started": "2020-12-29T04:52:58.639514Z"
    }
   },
   "outputs": [
    {
     "data": {
      "text/plain": [
       "0.5507246376811594"
      ]
     },
     "execution_count": 17,
     "metadata": {},
     "output_type": "execute_result"
    }
   ],
   "source": [
    "len(labeled_bars_df[abs(labeled_bars_df.label_rrr)>=3]) / labeled_bars_df.shape[0]"
   ]
  },
  {
   "cell_type": "code",
   "execution_count": 18,
   "metadata": {
    "execution": {
     "iopub.execute_input": "2020-12-29T04:52:58.647694Z",
     "iopub.status.busy": "2020-12-29T04:52:58.646981Z",
     "iopub.status.idle": "2020-12-29T04:52:58.671122Z",
     "shell.execute_reply": "2020-12-29T04:52:58.670913Z",
     "shell.execute_reply.started": "2020-12-29T04:52:58.647655Z"
    }
   },
   "outputs": [
    {
     "data": {
      "text/plain": [
       "count                           69\n",
       "mean     0 days 00:13:21.265852864\n",
       "std      0 days 00:08:44.878822871\n",
       "min      0 days 00:00:30.435818752\n",
       "20%      0 days 00:05:03.673234483\n",
       "50%      0 days 00:13:06.638902016\n",
       "80%      0 days 00:18:51.970378752\n",
       "95%      0 days 00:29:41.216222822\n",
       "max                0 days 00:30:00\n",
       "dtype: object"
      ]
     },
     "execution_count": 18,
     "metadata": {},
     "output_type": "execute_result"
    }
   ],
   "source": [
    "(labeled_bars_df.label_outcome_at - labeled_bars_df.close_at).describe(percentiles=[.2, .8, .95])"
   ]
  },
  {
   "cell_type": "code",
   "execution_count": 19,
   "metadata": {
    "execution": {
     "iopub.execute_input": "2020-12-29T04:52:58.673533Z",
     "iopub.status.busy": "2020-12-29T04:52:58.672058Z",
     "iopub.status.idle": "2020-12-29T04:52:58.746486Z",
     "shell.execute_reply": "2020-12-29T04:52:58.745598Z",
     "shell.execute_reply.started": "2020-12-29T04:52:58.673472Z"
    }
   },
   "outputs": [
    {
     "data": {
      "text/plain": [
       "<AxesSubplot:xlabel='date_time'>"
      ]
     },
     "execution_count": 19,
     "metadata": {},
     "output_type": "execute_result"
    }
   ],
   "source": [
    "labeled_bars_df.label_rrr.hist(bins=30)"
   ]
  },
  {
   "cell_type": "code",
   "execution_count": 20,
   "metadata": {
    "execution": {
     "iopub.execute_input": "2020-12-29T04:52:58.749821Z",
     "iopub.status.busy": "2020-12-29T04:52:58.749627Z",
     "iopub.status.idle": "2020-12-29T04:52:59.128830Z",
     "shell.execute_reply": "2020-12-29T04:52:59.126730Z",
     "shell.execute_reply.started": "2020-12-29T04:52:58.749783Z"
    }
   },
   "outputs": [
    {
     "data": {
      "text/plain": [
       "<AxesSubplot:xlabel='date_time'>"
      ]
     },
     "execution_count": 20,
     "metadata": {},
     "output_type": "execute_result"
    }
   ],
   "source": [
    "# ticks2_df.loc[:, ['price', 'jma']].plot()\n",
    "# ticks2_df[ticks2_df.status=='clean'].loc[:, ['price', 'jma']].plot()\n",
    "ticks2_df[ticks2_df.status=='clean'].set_index('date_time').loc[:, ['jma']].plot()"
   ]
  },
  {
   "cell_type": "code",
   "execution_count": 21,
   "metadata": {
    "execution": {
     "iopub.execute_input": "2020-12-29T04:52:59.221940Z",
     "iopub.status.busy": "2020-12-29T04:52:59.204970Z",
     "iopub.status.idle": "2020-12-29T04:52:59.329890Z",
     "shell.execute_reply": "2020-12-29T04:52:59.329560Z",
     "shell.execute_reply.started": "2020-12-29T04:52:59.22082Z"
    }
   },
   "outputs": [
    {
     "data": {
      "text/plain": [
       "<AxesSubplot:>"
      ]
     },
     "execution_count": 21,
     "metadata": {},
     "output_type": "execute_result"
    }
   ],
   "source": [
    "# labeled_bars_df[['jma_wq10', 'jma_wq90']].plot()\n",
    "labeled_bars_df[['jma_high', 'jma_low','jma_close']].plot()\n",
    "# labeled_bars_df.set_index('close_at')[['jma_high','jma_low', 'jma_close']].plot()"
   ]
  },
  {
   "cell_type": "code",
   "execution_count": 22,
   "metadata": {
    "execution": {
     "iopub.execute_input": "2020-12-29T04:53:03.604060Z",
     "iopub.status.busy": "2020-12-29T04:53:03.603917Z",
     "iopub.status.idle": "2020-12-29T04:53:03.625485Z",
     "shell.execute_reply": "2020-12-29T04:53:03.624472Z",
     "shell.execute_reply.started": "2020-12-29T04:53:03.604027Z"
    }
   },
   "outputs": [
    {
     "data": {
      "text/plain": [
       "<AxesSubplot:>"
      ]
     },
     "execution_count": 22,
     "metadata": {},
     "output_type": "execute_result"
    }
   ],
   "source": [
    "labeled_bars_df['label_rrr'].plot()\n",
    "# labeled_bars_df.set_index('close_at')['label_rrr'].plot()"
   ]
  },
  {
   "cell_type": "code",
   "execution_count": 50,
   "metadata": {
    "execution": {
     "iopub.execute_input": "2020-12-29T02:49:35.955609Z",
     "iopub.status.busy": "2020-12-29T02:49:35.954864Z",
     "iopub.status.idle": "2020-12-29T02:49:35.997812Z",
     "shell.execute_reply": "2020-12-29T02:49:35.988561Z",
     "shell.execute_reply.started": "2020-12-29T02:49:35.955562Z"
    }
   },
   "outputs": [
    {
     "data": {
      "text/plain": [
       "count                           69\n",
       "mean     0 days 00:13:21.265852864\n",
       "std      0 days 00:08:44.878822871\n",
       "min      0 days 00:00:30.435818752\n",
       "20%      0 days 00:05:03.673234483\n",
       "50%      0 days 00:13:06.638902016\n",
       "80%      0 days 00:18:51.970378752\n",
       "max                0 days 00:30:00\n",
       "dtype: object"
      ]
     },
     "execution_count": 50,
     "metadata": {},
     "output_type": "execute_result"
    }
   ],
   "source": [
    "(labeled_bars_df.label_outcome_at - labeled_bars_df.label_start_at ).describe(percentiles=[.2, .8])"
   ]
  },
  {
   "cell_type": "markdown",
   "metadata": {},
   "source": [
    "# Build Bars Workflow"
   ]
  },
  {
   "cell_type": "code",
   "execution_count": null,
   "metadata": {},
   "outputs": [],
   "source": [
    "import ray\n",
    "\n",
    "ray.init(ignore_reinit_error=True, num_cpus=4, dashboard_port=8080)\n"
   ]
  },
  {
   "cell_type": "code",
   "execution_count": null,
   "metadata": {},
   "outputs": [],
   "source": [
    "thresh = {\n",
    "    # max thresholds\n",
    "    'renko_return': 'jma_return',\n",
    "    'renko_reveral_multiple': 2,\n",
    "    'max_duration_sec': 60*60*0.5,\n",
    "    # min thresholds\n",
    "    'min_duration_sec': 10,\n",
    "    'min_tick_count': 30,\n",
    "}\n",
    "\n",
    "daily_bar_stats_df, labeled_bar_dates, stacked_bars_df = bm.bars_workflow_ray(\n",
    "    symbol,\n",
    "    start_date='2020-11-02',\n",
    "    end_date='2020-11-02',\n",
    "    thresh=thresh,\n",
    ")\n"
   ]
  },
  {
   "cell_type": "code",
   "execution_count": null,
   "metadata": {},
   "outputs": [],
   "source": [
    "ray.shutdown()"
   ]
  }
 ],
 "metadata": {
  "kernelspec": {
   "display_name": "Python 3.8 (XPython)",
   "language": "python",
   "name": "xpython"
  },
  "language_info": {
   "file_extension": ".py",
   "mimetype": "text/x-python",
   "name": "python",
   "version": "3.8.6"
  },
  "toc-autonumbering": true,
  "toc-showcode": false,
  "toc-showmarkdowntxt": false,
  "toc-showtags": false,
  "varInspector": {
   "cols": {
    "lenName": 16,
    "lenType": 16,
    "lenVar": 40
   },
   "kernels_config": {
    "python": {
     "delete_cmd_postfix": "",
     "delete_cmd_prefix": "del ",
     "library": "var_list.py",
     "varRefreshCmd": "print(var_dic_list())"
    },
    "r": {
     "delete_cmd_postfix": ") ",
     "delete_cmd_prefix": "rm(",
     "library": "var_list.r",
     "varRefreshCmd": "cat(var_dic_list()) "
    }
   },
   "types_to_exclude": [
    "module",
    "function",
    "builtin_function_or_method",
    "instance",
    "_Feature"
   ],
   "window_display": false
  }
 },
 "nbformat": 4,
 "nbformat_minor": 4
}
